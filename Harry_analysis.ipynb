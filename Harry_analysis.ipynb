{
 "cells": [
  {
   "cell_type": "code",
   "execution_count": 1,
   "metadata": {},
   "outputs": [
    {
     "name": "stderr",
     "output_type": "stream",
     "text": [
      "/home/chem/mssnkt/anaconda3/envs/mda/lib/python2.7/site-packages/MDAnalysis/due.py:88: UserWarning: No module named mock\n",
      "  warnings.warn(str(err))\n"
     ]
    }
   ],
   "source": [
    "import MDAnalysis as mda\n",
    "import MDAnalysis.analysis.distances as dis\n",
    "from MDAnalysis import *\n",
    "import numpy as np\n",
    "import matplotlib.pyplot as plt"
   ]
  },
  {
   "cell_type": "markdown",
   "metadata": {},
   "source": [
    "# 2D EOS"
   ]
  },
  {
   "cell_type": "code",
   "execution_count": 2,
   "metadata": {},
   "outputs": [],
   "source": [
    "# Cell\n",
    "cells = np.loadtxt(\"./cell.dat\")"
   ]
  },
  {
   "cell_type": "code",
   "execution_count": 3,
   "metadata": {},
   "outputs": [],
   "source": [
    "nc = 10\n",
    "str1 = \"final_\"\n",
    "str3 = \".xyz\"\n",
    "br_br = np.zeros((nc,2))\n",
    "f_h = np.zeros((nc,2))\n",
    "\n",
    "for i in range(1,nc+1):\n",
    "    str2=str(i) \n",
    "    ifile=str1+str2+str3\n",
    "    u = mda.Universe(ifile)\n",
    "    #print(i,u)\n",
    "\n",
    "    # Br-Br bond length\n",
    "    aI = u.select_atoms(\"name Br\")\n",
    "    aN = u.select_atoms(\"name Br\")\n",
    "    box = np.array(cells[i-1], dtype=np.float32)\n",
    "    for ts in u.trajectory:\n",
    "        bonds = dis.distance_array(aN.positions, aI.positions, box )\n",
    "        allbonds = bonds.flatten()\n",
    "        s_bonds= allbonds[np.logical_and(allbonds<=6.0,allbonds>=2.0)]\n",
    "    \n",
    "    m = np.mean(s_bonds)\n",
    "    s = np.std(s_bonds)\n",
    "    br_br[i-1,0] = m\n",
    "    br_br[i-1,1] = s\n",
    "    #print(i,m,s)\n",
    "\n",
    "    # F-H bond length\n",
    "    aI = u.select_atoms(\"name F\")\n",
    "    aN = u.select_atoms(\"name H\")\n",
    "    box = np.array(cells[i-1], dtype=np.float32)\n",
    "    for ts in u.trajectory:\n",
    "        bonds = dis.distance_array(aN.positions, aI.positions, box )\n",
    "        allbonds = bonds.flatten()\n",
    "        if (i <=7 ):\n",
    "            s_bonds = allbonds[np.logical_and(allbonds<=3.0,allbonds>=1.5)]\n",
    "        else:\n",
    "            s_bonds = allbonds[np.logical_and(allbonds<=4.0,allbonds>=1.5)]\n",
    "                \n",
    "    m = np.mean(s_bonds)\n",
    "    s = np.std(s_bonds)\n",
    "    f_h[i-1,0] = m\n",
    "    f_h[i-1,1] = s\n",
    "    #print(i,m,s)"
   ]
  },
  {
   "cell_type": "code",
   "execution_count": 4,
   "metadata": {},
   "outputs": [
    {
     "name": "stdout",
     "output_type": "stream",
     "text": [
      "Average Br--Br / F--H distances [angs]\n"
     ]
    },
    {
     "data": {
      "text/html": [
       "<div>\n",
       "<style scoped>\n",
       "    .dataframe tbody tr th:only-of-type {\n",
       "        vertical-align: middle;\n",
       "    }\n",
       "\n",
       "    .dataframe tbody tr th {\n",
       "        vertical-align: top;\n",
       "    }\n",
       "\n",
       "    .dataframe thead th {\n",
       "        text-align: right;\n",
       "    }\n",
       "</style>\n",
       "<table border=\"1\" class=\"dataframe\">\n",
       "  <thead>\n",
       "    <tr style=\"text-align: right;\">\n",
       "      <th></th>\n",
       "      <th>Br--Br Mean</th>\n",
       "      <th>Br--Br SD</th>\n",
       "      <th>F--H Mean</th>\n",
       "      <th>F--H SD</th>\n",
       "    </tr>\n",
       "  </thead>\n",
       "  <tbody>\n",
       "    <tr>\n",
       "      <th>0</th>\n",
       "      <td>3.743488</td>\n",
       "      <td>0.053536</td>\n",
       "      <td>2.274595</td>\n",
       "      <td>0.184860</td>\n",
       "    </tr>\n",
       "    <tr>\n",
       "      <th>1</th>\n",
       "      <td>3.863209</td>\n",
       "      <td>0.092618</td>\n",
       "      <td>2.383812</td>\n",
       "      <td>0.166976</td>\n",
       "    </tr>\n",
       "    <tr>\n",
       "      <th>2</th>\n",
       "      <td>3.993494</td>\n",
       "      <td>0.101714</td>\n",
       "      <td>2.508499</td>\n",
       "      <td>0.148588</td>\n",
       "    </tr>\n",
       "    <tr>\n",
       "      <th>3</th>\n",
       "      <td>4.139535</td>\n",
       "      <td>0.079659</td>\n",
       "      <td>2.636523</td>\n",
       "      <td>0.127481</td>\n",
       "    </tr>\n",
       "    <tr>\n",
       "      <th>4</th>\n",
       "      <td>4.130969</td>\n",
       "      <td>0.060199</td>\n",
       "      <td>2.834159</td>\n",
       "      <td>0.106502</td>\n",
       "    </tr>\n",
       "    <tr>\n",
       "      <th>5</th>\n",
       "      <td>4.267579</td>\n",
       "      <td>0.036200</td>\n",
       "      <td>2.814932</td>\n",
       "      <td>0.022119</td>\n",
       "    </tr>\n",
       "    <tr>\n",
       "      <th>6</th>\n",
       "      <td>4.444436</td>\n",
       "      <td>0.031695</td>\n",
       "      <td>2.967607</td>\n",
       "      <td>0.023684</td>\n",
       "    </tr>\n",
       "    <tr>\n",
       "      <th>7</th>\n",
       "      <td>4.657293</td>\n",
       "      <td>0.033612</td>\n",
       "      <td>3.359938</td>\n",
       "      <td>0.133164</td>\n",
       "    </tr>\n",
       "    <tr>\n",
       "      <th>8</th>\n",
       "      <td>4.863605</td>\n",
       "      <td>0.044753</td>\n",
       "      <td>3.560991</td>\n",
       "      <td>0.139757</td>\n",
       "    </tr>\n",
       "    <tr>\n",
       "      <th>9</th>\n",
       "      <td>5.098211</td>\n",
       "      <td>0.034217</td>\n",
       "      <td>3.754582</td>\n",
       "      <td>0.134981</td>\n",
       "    </tr>\n",
       "  </tbody>\n",
       "</table>\n",
       "</div>"
      ],
      "text/plain": [
       "   Br--Br Mean  Br--Br SD  F--H Mean   F--H SD\n",
       "0     3.743488   0.053536   2.274595  0.184860\n",
       "1     3.863209   0.092618   2.383812  0.166976\n",
       "2     3.993494   0.101714   2.508499  0.148588\n",
       "3     4.139535   0.079659   2.636523  0.127481\n",
       "4     4.130969   0.060199   2.834159  0.106502\n",
       "5     4.267579   0.036200   2.814932  0.022119\n",
       "6     4.444436   0.031695   2.967607  0.023684\n",
       "7     4.657293   0.033612   3.359938  0.133164\n",
       "8     4.863605   0.044753   3.560991  0.139757\n",
       "9     5.098211   0.034217   3.754582  0.134981"
      ]
     },
     "execution_count": 4,
     "metadata": {},
     "output_type": "execute_result"
    }
   ],
   "source": [
    "import pandas as pd\n",
    "bb = pd.DataFrame(br_br,columns=[\"Br--Br Mean\",\"Br--Br SD\"])\n",
    "fh = pd.DataFrame(f_h,columns=[\"F--H Mean\",\"F--H SD\"])\n",
    "result = pd.concat([bb, fh], axis=1, sort=False)\n",
    "print(\"Average Br--Br / F--H distances [angs]\")\n",
    "result"
   ]
  },
  {
   "cell_type": "code",
   "execution_count": 5,
   "metadata": {},
   "outputs": [],
   "source": [
    "e_cell = np.loadtxt(\"./data_fix_Z.dat\")\n",
    "ene = e_cell[:,2]\n",
    "ene=ene-min(ene)"
   ]
  },
  {
   "cell_type": "code",
   "execution_count": 6,
   "metadata": {},
   "outputs": [
    {
     "data": {
      "image/png": "[encoded data removed]",
      "text/plain": [
       "<matplotlib.figure.Figure at 0x7f8d24ea6790>"
      ]
     },
     "metadata": {},
     "output_type": "display_data"
    }
   ],
   "source": [
    "plt.figure(figsize=(6, 6), dpi= 80, facecolor='w', edgecolor='k') # figsize determine the actual size of the figure\n",
    "plt.tick_params(axis='both', which='both', length=10.0, labelleft=True, labelbottom=True, labelsize=20.0)\n",
    "plt.plot(br_br[:,0], ene, color='blue', linestyle='solid', linewidth=1.0, label='')\n",
    "plt.plot(br_br[:,0], ene, 'o', markerfacecolor='green', markersize=8, markeredgecolor='blue', linewidth=2.5, label='')\n",
    "#plt.plot(xnew, f_cub_ave(xnew), color='purple', linestyle='solid', linewidth=3.0, label='Ensemble average')\n",
    "plt.xlabel('Br--Br distance [$\\AA$]', fontsize=26)\n",
    "plt.ylabel('Energy [eV]', fontsize=26)\n",
    "#plt.legend()\n",
    "plt.axvline(x=4.0410801793696516)\n",
    "plt.show()"
   ]
  },
  {
   "cell_type": "code",
   "execution_count": 7,
   "metadata": {},
   "outputs": [
    {
     "data": {
      "image/png": "[encoded data removed]",
      "text/plain": [
       "<matplotlib.figure.Figure at 0x7f8d24eb8910>"
      ]
     },
     "metadata": {},
     "output_type": "display_data"
    }
   ],
   "source": [
    "plt.figure(figsize=(6, 6), dpi= 80, facecolor='w', edgecolor='k') # figsize determine the actual size of the figure\n",
    "plt.tick_params(axis='both', which='both', length=10.0, labelleft=True, labelbottom=True, labelsize=20.0)\n",
    "plt.plot(e_cell[:,1], ene, color='blue', linestyle='solid', linewidth=1.0, label='')\n",
    "plt.plot(e_cell[:,1], ene, 'o', markerfacecolor='green', markersize=8, markeredgecolor='blue', linewidth=2.5, label='')\n",
    "#plt.plot(xnew, f_cub_ave(xnew), color='purple', linestyle='solid', linewidth=3.0, label='Ensemble average')\n",
    "plt.xlabel('Cell param. [$\\AA$]', fontsize=26)\n",
    "plt.ylabel('Energy [eV]', fontsize=26)\n",
    "#plt.legend()\n",
    "#plt.axvline(x=2.8418088652969629)\n",
    "plt.show()"
   ]
  },
  {
   "cell_type": "code",
   "execution_count": 8,
   "metadata": {
    "scrolled": true
   },
   "outputs": [
    {
     "data": {
      "image/png": "[encoded data removed]",
      "text/plain": [
       "<matplotlib.figure.Figure at 0x7f8d19dc0550>"
      ]
     },
     "metadata": {},
     "output_type": "display_data"
    }
   ],
   "source": [
    "plt.figure(figsize=(6, 6), dpi= 80, facecolor='w', edgecolor='k') # figsize determine the actual size of the figure\n",
    "plt.tick_params(axis='both', which='both', length=10.0, labelleft=True, labelbottom=True, labelsize=20.0)\n",
    "plt.plot(f_h[:,0], ene, color='blue', linestyle='solid', linewidth=1.0, label='')\n",
    "plt.plot(f_h[:,0], ene, 'o', markerfacecolor='green', markersize=8, markeredgecolor='blue', linewidth=2.5, label='')\n",
    "#plt.plot(xnew, f_cub_ave(xnew), color='purple', linestyle='solid', linewidth=3.0, label='Ensemble average')\n",
    "plt.xlabel('F--H distance [$\\AA$]', fontsize=26)\n",
    "plt.ylabel('Energy [eV]', fontsize=26)\n",
    "#plt.legend()\n",
    "plt.axvline(x=2.8418088652969629)\n",
    "plt.show()"
   ]
  },
  {
   "cell_type": "code",
   "execution_count": 9,
   "metadata": {},
   "outputs": [],
   "source": [
    "u = mda.Universe('./2d_eos.xyz')"
   ]
  },
  {
   "cell_type": "code",
   "execution_count": 10,
   "metadata": {},
   "outputs": [
    {
     "name": "stdout",
     "output_type": "stream",
     "text": [
      "('Br--Br', 4.1395349555496423, 0.079659171461259767)\n",
      "('F--H (1)', 2.4703984253360973, 0.058882129554918776)\n",
      "('F--H (2)', 2.7146567991764838, 0.056629116228020526)\n"
     ]
    },
    {
     "data": {
      "image/png": "[encoded data removed]",
      "text/plain": [
       "<matplotlib.figure.Figure at 0x7f8d2b644cd0>"
      ]
     },
     "metadata": {},
     "output_type": "display_data"
    }
   ],
   "source": [
    "# Br-Br bond length\n",
    "aI = u.select_atoms(\"name Br\")\n",
    "aN = u.select_atoms(\"name Br\")\n",
    "box = np.array([37.255, 37.255, 20.000, 90.000, 90.000, 60.000], dtype=np.float32)\n",
    "for ts in u.trajectory:\n",
    "    bonds = dis.distance_array(aN.positions, aI.positions, box )\n",
    "    allbonds = bonds.flatten()\n",
    "    s_bonds= allbonds[np.logical_and(allbonds>=3,allbonds<=4.5)]\n",
    "    \n",
    "#plt.hist(s_bonds, bins='auto')\n",
    "\n",
    "m = np.mean(s_bonds)\n",
    "s = np.std(s_bonds)\n",
    "print(\"Br--Br\",m,s)\n",
    "\n",
    "# F-H bond length\n",
    "aI = u.select_atoms(\"name F\")\n",
    "aN = u.select_atoms(\"name H\")\n",
    "box = np.array(cells[i-1], dtype=np.float32)\n",
    "for ts in u.trajectory:\n",
    "    bonds = dis.distance_array(aN.positions, aI.positions, box )\n",
    "    allbonds = bonds.flatten()\n",
    "    s_bonds = allbonds[np.logical_and(allbonds<=4.0,allbonds>=1.0)]\n",
    "\n",
    "plt.hist(s_bonds, bins='auto')\n",
    "\n",
    "# 2 different bond lengths for the F--H interactions\n",
    "b1 = allbonds[np.logical_and(allbonds>=1.0,allbonds<=2.6)]\n",
    "b2 = allbonds[np.logical_and(allbonds>=2.6,allbonds<=3.2)]\n",
    "    \n",
    "\n",
    "    \n",
    "m = np.mean(b1)\n",
    "s = np.std(b1)\n",
    "print(\"F--H (1)\",m,s)\n",
    "\n",
    "m = np.mean(b2)\n",
    "s = np.std(b2)\n",
    "print(\"F--H (2)\",m,s)"
   ]
  },
  {
   "cell_type": "markdown",
   "metadata": {},
   "source": [
    "# Exp."
   ]
  },
  {
   "cell_type": "code",
   "execution_count": 11,
   "metadata": {},
   "outputs": [],
   "source": [
    "u = mda.Universe('./exp.xyz')"
   ]
  },
  {
   "cell_type": "code",
   "execution_count": 12,
   "metadata": {},
   "outputs": [
    {
     "name": "stdout",
     "output_type": "stream",
     "text": [
      "('Br--Br', 4.0410801793696516, 0.01499153910507491)\n",
      "('F--H (1)', 2.5413236494904186, 0.0027730381980478787)\n",
      "('F--H (2)', 2.9920514732002346, 0.0071092211146445462)\n"
     ]
    }
   ],
   "source": [
    "# Br-Br bond length\n",
    "aI = u.select_atoms(\"name Br\")\n",
    "aN = u.select_atoms(\"name Br\")\n",
    "box = np.array([38.000, 38.000, 30.000, 90.000, 90.000, 60.000], dtype=np.float32)\n",
    "for ts in u.trajectory:\n",
    "    bonds = dis.distance_array(aN.positions, aI.positions, box )\n",
    "    allbonds = bonds.flatten()\n",
    "    s_bonds= allbonds[np.logical_and(allbonds>=3,allbonds<=5)]\n",
    "    \n",
    "m = np.mean(s_bonds)\n",
    "s = np.std(s_bonds)\n",
    "print(\"Br--Br\",m,s)\n",
    "\n",
    "# F-H bond length\n",
    "aI = u.select_atoms(\"name F\")\n",
    "aN = u.select_atoms(\"name H\")\n",
    "box = np.array(cells[i-1], dtype=np.float32)\n",
    "for ts in u.trajectory:\n",
    "    bonds = dis.distance_array(aN.positions, aI.positions, box )\n",
    "    allbonds = bonds.flatten()\n",
    "    s_bonds = allbonds[np.logical_and(allbonds<=4.0,allbonds>=1.0)]\n",
    "\n",
    "#plt.hist(s_bonds, bins='auto')\n",
    "\n",
    "# 2 different bond lengths for the F--H interactions\n",
    "b1 = allbonds[np.logical_and(allbonds>=1.0,allbonds<=2.8)]\n",
    "b2 = allbonds[np.logical_and(allbonds>=2.8,allbonds<=4.0)]\n",
    "    \n",
    "m = np.mean(b1)\n",
    "s = np.std(b1)\n",
    "print(\"F--H (1)\",m,s)\n",
    "\n",
    "m = np.mean(b2)\n",
    "s = np.std(b2)\n",
    "print(\"F--H (2)\",m,s)"
   ]
  },
  {
   "cell_type": "markdown",
   "metadata": {},
   "source": [
    "# Cell Opt."
   ]
  },
  {
   "cell_type": "code",
   "execution_count": 13,
   "metadata": {},
   "outputs": [],
   "source": [
    "u = mda.Universe('./cell_opt.xyz')"
   ]
  },
  {
   "cell_type": "code",
   "execution_count": 14,
   "metadata": {},
   "outputs": [
    {
     "name": "stdout",
     "output_type": "stream",
     "text": [
      "('Br--Br', 4.2290126841662339, 0.05521942191842763)\n",
      "('F--H (1)', 2.7845084713172912, 0.038518833075829158)\n",
      "('F--H (2)', 3.0418528117245001, 0.031482848970796493)\n"
     ]
    },
    {
     "data": {
      "image/png": "[encoded data removed]",
      "text/plain": [
       "<matplotlib.figure.Figure at 0x7f8d19e49c50>"
      ]
     },
     "metadata": {},
     "output_type": "display_data"
    }
   ],
   "source": [
    "# Br-Br bond length\n",
    "aI = u.select_atoms(\"name Br\")\n",
    "aN = u.select_atoms(\"name Br\")\n",
    "box = np.array([38.649, 38.387, 20.282, 90.224, 90.208, 60.210], dtype=np.float32)\n",
    "for ts in u.trajectory:\n",
    "    bonds = dis.distance_array(aN.positions, aI.positions, box )\n",
    "    allbonds = bonds.flatten()\n",
    "    s_bonds= allbonds[np.logical_and(allbonds>=3,allbonds<=5)]\n",
    "    \n",
    "m = np.mean(s_bonds)\n",
    "s = np.std(s_bonds)\n",
    "print(\"Br--Br\",m,s)\n",
    "\n",
    "# F-H bond length\n",
    "aI = u.select_atoms(\"name F\")\n",
    "aN = u.select_atoms(\"name H\")\n",
    "box = np.array(cells[i-1], dtype=np.float32)\n",
    "for ts in u.trajectory:\n",
    "    bonds = dis.distance_array(aN.positions, aI.positions, box )\n",
    "    allbonds = bonds.flatten()\n",
    "    s_bonds = allbonds[np.logical_and(allbonds<=4.0,allbonds>=1.0)]\n",
    "\n",
    "plt.hist(s_bonds, bins='auto')\n",
    "\n",
    "# 2 different bond lengths for the F--H interactions\n",
    "b1 = allbonds[np.logical_and(allbonds>=1.0,allbonds<=2.9)]\n",
    "b2 = allbonds[np.logical_and(allbonds>=2.9,allbonds<=3.6)]\n",
    "    \n",
    "m = np.mean(b1)\n",
    "s = np.std(b1)\n",
    "print(\"F--H (1)\",m,s)\n",
    "\n",
    "m = np.mean(b2)\n",
    "s = np.std(b2)\n",
    "print(\"F--H (2)\",m,s)"
   ]
  },
  {
   "cell_type": "markdown",
   "metadata": {},
   "source": [
    "## Br--Br dimer, binding energy (SAM orientation)"
   ]
  },
  {
   "cell_type": "markdown",
   "metadata": {},
   "source": [
    "We want to extract the equilibrium bond distance [$\\mathring A$] and the corresponding energy [eV]"
   ]
  },
  {
   "cell_type": "code",
   "execution_count": 15,
   "metadata": {},
   "outputs": [
    {
     "name": "stdout",
     "output_type": "stream",
     "text": [
      "('Eps., Sigma', -0.067083121796642331, 3.7777091973024852)\n"
     ]
    },
    {
     "name": "stderr",
     "output_type": "stream",
     "text": [
      "/home/chem/mssnkt/anaconda3/envs/mda/lib/python2.7/site-packages/matplotlib/axes/_axes.py:532: UserWarning: No labelled objects found. Use label='...' kwarg on individual plots.\n",
      "  warnings.warn(\"No labelled objects found. \"\n",
      "/home/chem/mssnkt/anaconda3/envs/mda/lib/python2.7/site-packages/matplotlib/font_manager.py:1294: UserWarning: findfont: Font family [u'sans-serif'] not found. Falling back to DejaVu Sans\n",
      "  (prop.get_family(), self.defaultFamily[fontext]))\n"
     ]
    },
    {
     "data": {
      "image/png": "[encoded data removed]",
      "text/plain": [
       "<matplotlib.figure.Figure at 0x7f8d2d914c10>"
      ]
     },
     "metadata": {},
     "output_type": "display_data"
    }
   ],
   "source": [
    "#import pysed\n",
    "import os\n",
    "import numpy as np\n",
    "from scipy.spatial import distance\n",
    "from matplotlib import rcParams\n",
    "rcParams['font.family'] = 'sans-serif'\n",
    "rcParams['font.sans-serif'] = ['Tahoma']\n",
    "import matplotlib.pyplot as plt\n",
    "from matplotlib import pylab\n",
    "from scipy.optimize import curve_fit\n",
    "import matplotlib.pyplot as plt\n",
    "\n",
    "nc=1\n",
    "prefix=\"/storage/chem/mssnkt/HALO_SAMS/HARRY_P1/E_BINDING_Br_Br-F_H/Br_Br/RESULTS/\"\n",
    "end=\".dat\"\n",
    "hartree_eV=float(27.2114)\n",
    "\n",
    "fname=\"/storage/chem/mssnkt/HALO_SAMS/HARRY_P1/E_BINDING_Br_Br-F_H/Br_Br/RESULTS/results.dat\"   # name of the file with the results\n",
    "nl=sum((1 for i in open(fname, \"rb\"))) # n. of lines in the file\n",
    "e_data=open(fname,\"r\")\n",
    "\n",
    "#print(e_data)\n",
    "\n",
    "# #dname=\"conf_\"+str(i)+\"_0.xyz\" # configuration with the smallest A-B distance\n",
    "\n",
    "# indexes - VMD numbering! i.e. VMD +2\n",
    "idx1=0+2  # Br\n",
    "idx2=19+2 # Br\n",
    "\n",
    "\n",
    "x=[]\n",
    "y=[]\n",
    "\n",
    "counter =-1\n",
    "for j in e_data: \n",
    "    l_data=j.split()\n",
    "    energy=l_data[1]\n",
    "    #print(counter,energy)\n",
    "    if (counter == -1):\n",
    "        e_mono_1 = energy\n",
    "        #print(counter,energy)\n",
    "    if (counter == 0):\n",
    "        e_mono_2 = energy\n",
    "        #print(counter,energy)\n",
    "    if (counter > 0):\n",
    "        k = counter-1\n",
    "        xname=prefix+\"conf_\"+str(k)+\".xyz\"\n",
    "        xyzf=open(xname,\"r\")\n",
    "        lines=xyzf.readlines()\n",
    "        xyzf.close()\n",
    "        vv1=lines[idx1].split()\n",
    "        vv2=lines[idx2].split()\n",
    "        v1=np.array(vv1)[:]\n",
    "        v1=np.delete(v1,0)\n",
    "        v2=np.array(vv2)[:]\n",
    "        v2=np.delete(v2,0)\n",
    "        v1=v1.astype(np.float)\n",
    "        v2=v2.astype(np.float)\n",
    "        dist=distance.euclidean(v1,v2)\n",
    "        x.append(dist)\n",
    "        #print(counter,energy,e_mono_1,e_mono_2)\n",
    "        # Binding energy [eV] = energy of the dimer - 2*energy of the monomer\n",
    "        #print(counter,be)\n",
    "        be=(float(energy)-(float(e_mono_1)+float(e_mono_2)))*hartree_eV\n",
    "        y.append(be)\n",
    "    counter = counter+1\n",
    "\n",
    "x = np.array(x)\n",
    "y = np.array(y)\n",
    "x2 = x[x>2.5]\n",
    "y2 = y[x>2.5]\n",
    "z = np.polyfit(x2, y2, 7)\n",
    "f = np.poly1d(z)\n",
    "x_new = np.linspace(x[0], x[len(x)-1], 500)\n",
    "y_new = f(x_new)\n",
    "epsilon=min(y_new)\n",
    "sigma=x_new[np.argmin(y_new)]\n",
    "print(\"Eps., Sigma\",epsilon,sigma)\n",
    "\n",
    "# plot\n",
    "x_hb = x_new\n",
    "y_hb = y_new\n",
    "plt.plot(x2,y2,'o')\n",
    "plt.plot(x_new, y_new,'r--')\n",
    "#pylab.title('Hydrogen Bond energy')\n",
    "pylab.xlabel('Br-Br distance [$\\AA$]')\n",
    "pylab.ylabel('Binding energy [eV]')\n",
    "plt.rcParams[\"figure.figsize\"] = (8,8)\n",
    "plt.xlim(2.5,5.0)\n",
    "plt.ylim(-0.3,1)\n",
    "plt.legend()\n",
    "plt.show()\n",
    "\n",
    "# if i == 2:\n",
    "#     x_halob = x_new\n",
    "#     y_halob = y_new\n",
    "#     plt.plot(x2,y2,'o')\n",
    "#     plt.plot(x_new, y_new,'r--')\n",
    "#     pylab.title('Halogen Bond energy')\n",
    "#     pylab.xlabel('O-Br distance [$\\AA$]')\n",
    "#     pylab.ylabel('Binding energy [eV]')\n",
    "#     plt.rcParams[\"figure.figsize\"] = (8,8)\n",
    "#     plt.xlim(1,4.5)\n",
    "#     plt.ylim(-0.3,1)\n",
    "#     plt.legend()\n",
    "#     plt.show()\n",
    "\n",
    "#e_data.close()"
   ]
  },
  {
   "cell_type": "markdown",
   "metadata": {},
   "source": [
    "## F--H dimer, binding energy (SAM orientation)"
   ]
  },
  {
   "cell_type": "markdown",
   "metadata": {},
   "source": [
    "### Set of F--H distances (1)"
   ]
  },
  {
   "cell_type": "code",
   "execution_count": 16,
   "metadata": {},
   "outputs": [
    {
     "name": "stdout",
     "output_type": "stream",
     "text": [
      "('Eps., Sigma', -0.20899696424595504, 2.5794596187707519)\n"
     ]
    },
    {
     "data": {
      "image/png": "[encoded data removed]",
      "text/plain": [
       "<matplotlib.figure.Figure at 0x7f8d19c4b750>"
      ]
     },
     "metadata": {},
     "output_type": "display_data"
    }
   ],
   "source": [
    "nc=1\n",
    "prefix=\"/storage/chem/mssnkt/HALO_SAMS/HARRY_P1/E_BINDING_Br_Br-F_H/F_H/RESULTS/\"\n",
    "end=\".dat\"\n",
    "hartree_eV=float(27.2114)\n",
    "\n",
    "fname=\"/storage/chem/mssnkt/HALO_SAMS/HARRY_P1/E_BINDING_Br_Br-F_H/F_H/RESULTS/results.dat\"   # name of the file with the results\n",
    "nl=sum((1 for i in open(fname, \"rb\"))) # n. of lines in the file\n",
    "e_data=open(fname,\"r\")\n",
    "\n",
    "#print(e_data)\n",
    "\n",
    "# #dname=\"conf_\"+str(i)+\"_0.xyz\" # configuration with the smallest A-B distance\n",
    "\n",
    "# indexes - VMD numbering! i.e. VMD +2\n",
    "idx1=22+2  # 1+2  # H (3) for the 2nd set of distances\n",
    "idx2=47+2 #45+2 # F \n",
    "\n",
    "\n",
    "x=[]\n",
    "y=[]\n",
    "\n",
    "counter =-1\n",
    "for j in e_data: \n",
    "    l_data=j.split()\n",
    "    energy=l_data[1]\n",
    "    #print(counter,energy)\n",
    "    if (counter == -1):\n",
    "        e_mono_1 = energy\n",
    "        #print(counter,energy)\n",
    "    if (counter == 0):\n",
    "        e_mono_2 = energy\n",
    "        #print(counter,energy)\n",
    "    if (counter > 0):\n",
    "        k = counter-1\n",
    "        xname=prefix+\"conf_\"+str(k)+\".xyz\"\n",
    "        xyzf=open(xname,\"r\")\n",
    "        lines=xyzf.readlines()\n",
    "        xyzf.close()\n",
    "        vv1=lines[idx1].split()\n",
    "        vv2=lines[idx2].split()\n",
    "        v1=np.array(vv1)[:]\n",
    "        v1=np.delete(v1,0)\n",
    "        v2=np.array(vv2)[:]\n",
    "        v2=np.delete(v2,0)\n",
    "        v1=v1.astype(np.float)\n",
    "        v2=v2.astype(np.float)\n",
    "        dist=distance.euclidean(v1,v2)\n",
    "        x.append(dist)\n",
    "        #print(counter,energy,e_mono_1,e_mono_2)\n",
    "        # Binding energy [eV] = energy of the dimer - 2*energy of the monomer\n",
    "        #print(counter,be)\n",
    "        be=(float(energy)-(float(e_mono_1)+float(e_mono_2)))*hartree_eV\n",
    "        y.append(be)\n",
    "    counter = counter+1\n",
    "\n",
    "x = np.array(x)\n",
    "y = np.array(y)\n",
    "x2 = x[x>2.0]\n",
    "y2 = y[x>2.0]\n",
    "z = np.polyfit(x2, y2, 7)\n",
    "f = np.poly1d(z)\n",
    "x_new = np.linspace(x[0], x[len(x)-1], 500)\n",
    "y_new = f(x_new)\n",
    "epsilon=min(y_new)\n",
    "sigma=x_new[np.argmin(y_new)]\n",
    "print(\"Eps., Sigma\",epsilon,sigma)\n",
    "\n",
    "# plot\n",
    "x_hb = x_new\n",
    "y_hb = y_new\n",
    "plt.plot(x2,y2,'o')\n",
    "plt.plot(x_new, y_new,'r--')\n",
    "#pylab.title('Hydrogen Bond energy')\n",
    "pylab.xlabel('F-H distance [$\\AA$]')\n",
    "pylab.ylabel('Binding energy [eV]')\n",
    "plt.rcParams[\"figure.figsize\"] = (8,8)\n",
    "#plt.xlim(2.5,5.0)\n",
    "#plt.ylim(-0.3,1)\n",
    "plt.legend()\n",
    "plt.show()\n"
   ]
  },
  {
   "cell_type": "markdown",
   "metadata": {},
   "source": [
    "### Set of F--H distances (2)"
   ]
  },
  {
   "cell_type": "code",
   "execution_count": 17,
   "metadata": {
    "scrolled": true
   },
   "outputs": [
    {
     "name": "stdout",
     "output_type": "stream",
     "text": [
      "('Eps., Sigma', -0.20625075558200479, 2.7571862352500349)\n"
     ]
    },
    {
     "data": {
      "image/png": "[encoded data removed]",
      "text/plain": [
       "<matplotlib.figure.Figure at 0x7f8d19bec190>"
      ]
     },
     "metadata": {},
     "output_type": "display_data"
    }
   ],
   "source": [
    "nc=1\n",
    "prefix=\"/storage/chem/mssnkt/HALO_SAMS/HARRY_P1/E_BINDING_Br_Br-F_H/F_H/RESULTS/\"\n",
    "end=\".dat\"\n",
    "hartree_eV=float(27.2114)\n",
    "\n",
    "fname=\"/storage/chem/mssnkt/HALO_SAMS/HARRY_P1/E_BINDING_Br_Br-F_H/F_H/RESULTS/results.dat\"   # name of the file with the results\n",
    "nl=sum((1 for i in open(fname, \"rb\"))) # n. of lines in the file\n",
    "e_data=open(fname,\"r\")\n",
    "\n",
    "#print(e_data)\n",
    "\n",
    "# #dname=\"conf_\"+str(i)+\"_0.xyz\" # configuration with the smallest A-B distance\n",
    "\n",
    "# indexes - VMD numbering! i.e. VMD +2\n",
    "idx1=20+2 #3+2  # H (3) for the 2nd set of distances\n",
    "idx2=47+2 #45+2 # F \n",
    "\n",
    "\n",
    "x=[]\n",
    "y=[]\n",
    "\n",
    "counter =-1\n",
    "for j in e_data: \n",
    "    l_data=j.split()\n",
    "    energy=l_data[1]\n",
    "    #print(counter,energy)\n",
    "    if (counter == -1):\n",
    "        e_mono_1 = energy\n",
    "        #print(counter,energy)\n",
    "    if (counter == 0):\n",
    "        e_mono_2 = energy\n",
    "        #print(counter,energy)\n",
    "    if (counter > 0):\n",
    "        k = counter-1\n",
    "        xname=prefix+\"conf_\"+str(k)+\".xyz\"\n",
    "        xyzf=open(xname,\"r\")\n",
    "        lines=xyzf.readlines()\n",
    "        xyzf.close()\n",
    "        vv1=lines[idx1].split()\n",
    "        vv2=lines[idx2].split()\n",
    "        v1=np.array(vv1)[:]\n",
    "        v1=np.delete(v1,0)\n",
    "        v2=np.array(vv2)[:]\n",
    "        v2=np.delete(v2,0)\n",
    "        v1=v1.astype(np.float)\n",
    "        v2=v2.astype(np.float)\n",
    "        dist=distance.euclidean(v1,v2)\n",
    "        x.append(dist)\n",
    "        #print(counter,energy,e_mono_1,e_mono_2)\n",
    "        # Binding energy [eV] = energy of the dimer - 2*energy of the monomer\n",
    "        #print(counter,be)\n",
    "        be=(float(energy)-(float(e_mono_1)+float(e_mono_2)))*hartree_eV\n",
    "        y.append(be)\n",
    "    counter = counter+1\n",
    "\n",
    "x = np.array(x)\n",
    "y = np.array(y)\n",
    "x2 = x[x>2.5]\n",
    "y2 = y[x>2.5]\n",
    "z = np.polyfit(x2, y2,12)\n",
    "f = np.poly1d(z)\n",
    "x_new = np.linspace(x[0], x[len(x)-1], 500)\n",
    "y_new = f(x_new)\n",
    "epsilon=min(y_new)\n",
    "sigma=x_new[np.argmin(y_new)]\n",
    "print(\"Eps., Sigma\",epsilon,sigma)\n",
    "\n",
    "# plot\n",
    "x_hb = x_new\n",
    "y_hb = y_new\n",
    "plt.plot(x2,y2,'o')\n",
    "plt.plot(x_new, y_new,'r--')\n",
    "#pylab.title('Hydrogen Bond energy')\n",
    "pylab.xlabel('F-H distance [$\\AA$]')\n",
    "pylab.ylabel('Binding energy [eV]')\n",
    "plt.rcParams[\"figure.figsize\"] = (8,8)\n",
    "#plt.xlim(2.5,5.0)\n",
    "#plt.ylim(-0.3,1)\n",
    "plt.legend()\n",
    "plt.show()\n"
   ]
  },
  {
   "cell_type": "markdown",
   "metadata": {},
   "source": [
    "## The curious case of the odd (long!) Br--Br distance"
   ]
  },
  {
   "cell_type": "markdown",
   "metadata": {},
   "source": [
    "Is the average Br--Br distance in the assembly much different (much larger) than the equilibrium distance of the Br--Br dimer (calculated in the same exp. config.?). And what about the F--H one(S)?"
   ]
  },
  {
   "cell_type": "markdown",
   "metadata": {},
   "source": [
    "\\begin{array}{l} \n",
    "\\hline\n",
    "                                   & \\text{Exp.}      & \\text{Cell_Opt.} & \\text{2DEOS}    & \\text{Equi (dimer)} \\\\\n",
    "\\hline\n",
    "\\text{Br--Br distance [angs]}      &  4.041 \\pm 0.015 &  4.23 \\pm 0.05   & (4.14 \\pm 0.08) &  3.82 \\pm 0.05 \\text{ [-0.08 eV]} \\\\ \n",
    "\\hline\n",
    "\\text{F--H distance (1) [angs]}    &  2.541 \\pm 0.003 &  2.78 \\pm 0.04   & (2.47 \\pm 0.06) &  2.58 \\pm 0.05 \\text{ [-0.21 eV]} \\\\\n",
    "\\hline\n",
    "\\text{F--H distance (2) [angs]}    &  2.992 \\pm 0.007 &  3.04 \\pm 0.03   & (2.71 \\pm 0.06) &  2.77 \\pm 0.05 \\text{ [-0.20 eV]} \\\\ \n",
    "\\hline\n",
    "\\end{array}"
   ]
  },
  {
   "cell_type": "code",
   "execution_count": 18,
   "metadata": {},
   "outputs": [],
   "source": [
    "import math"
   ]
  },
  {
   "cell_type": "markdown",
   "metadata": {},
   "source": [
    "# In a nuthsell\n",
    "* When doing a (crude) 2D EOS (keeping the symmetry of the cell as well as the z-component of the atomic positions fixed), the cell (and the Br--Br F--H distances as well) do not change much with respect to either the experimental data or the fully optimised (via DFT, no constraints) cell.\n",
    "* Even as a result of said 2D EOS, the Br--Br distance does not go below 4.0 $\\mathring A$ - which is still in a rather odd ballpark for a halogen bond interaction.\n",
    "* According to the Br--Br (SAM orientation) binding energy curve, the Br--Br distance can, in principle, easily go down to 3.0 $\\mathring A$ - albeit with minimal energy gain. That curve is very flat indeed (and the interaction is weak, -0.08 eV at its minimum). In fact, I even got two configurations with similar Br--Br distances and very different total energies. In other words, this SAM is not about Br--Br interactions at all! They don't get in the way, but they are not the main ingredient. The F--H are!\n",
    "* According to the F--H (SAM orientation) binding energy, for one set of F--H distances (we have two!) one cannot go below 2.5 $\\mathring A$, which constrains the geometry of the SAM - i.e. it cannot squeeze much! Note as well the the F--H binding energy curves are much deeper (~ -0.20 eV at their minima) than the Br--Br ones.\n",
    "* The equilibrium Br--Br distance (~ 3.82 $\\mathring A$) is much shorter than that we observe (both experimentally and via DFT) in the SAM, while the F--H distances are much more similar -- yet another indication that this SAM is all about F--HH interactions as opposed to Br--Br ones."
   ]
  },
  {
   "cell_type": "code",
   "execution_count": null,
   "metadata": {},
   "outputs": [],
   "source": []
  }
 ],
 "metadata": {
  "kernelspec": {
   "display_name": "Python 2",
   "language": "python",
   "name": "python2"
  },
  "language_info": {
   "codemirror_mode": {
    "name": "ipython",
    "version": 2
   },
   "file_extension": ".py",
   "mimetype": "text/x-python",
   "name": "python",
   "nbconvert_exporter": "python",
   "pygments_lexer": "ipython2",
   "version": "2.7.15"
  }
 },
 "nbformat": 4,
 "nbformat_minor": 2
}
